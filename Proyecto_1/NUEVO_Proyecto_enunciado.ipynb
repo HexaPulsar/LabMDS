{
 "cells": [
  {
   "cell_type": "markdown",
   "metadata": {
    "id": "7vTs1ax9y6xN"
   },
   "source": [
    "![](https://www.dii.uchile.cl/wp-content/uploads/2021/06/Magi%CC%81ster-en-Ciencia-de-Datos.png)"
   ]
  },
  {
   "cell_type": "markdown",
   "metadata": {
    "id": "IE5KA3OEy6xQ"
   },
   "source": [
    "# **Proyecto 1 - MDS7202 Laboratorio de Programación Científica para Ciencia de Datos 📚**\n",
    "\n",
    "**MDS7202: Laboratorio de Programación Científica para Ciencia de Datos**\n",
    "\n",
    "### Cuerpo Docente:\n",
    "\n",
    "- Profesor: Ignacio Meza, Gabriel Iturra\n",
    "- Auxiliar: Sebastián Tinoco\n",
    "- Ayudante: Arturo Lazcano, Angelo Muñoz\n",
    "\n",
    "*Por favor, lean detalladamente las instrucciones de la tarea antes de empezar a escribir.*\n",
    "\n",
    "### Equipo:\n",
    "\n",
    "- Simon Repolt\n",
    "- Magdalena de la Fuente\n",
    "\n",
    "\n",
    "### Link de repositorio de GitHub: `https://github.com/HexaPulsar/LabMDS`\n",
    "\n",
    "Fecha límite de entrega 📆: 27 de Octubre de 2023."
   ]
  },
  {
   "cell_type": "markdown",
   "metadata": {
    "id": "fLU9ydRby6xQ"
   },
   "source": [
    "----\n",
    "\n",
    "## Reglas\n",
    "\n",
    "- **Grupos de 2 personas.**\n",
    "- Cualquier duda fuera del horario de clases al foro. Mensajes al equipo docente serán respondidos por este medio.\n",
    "- Estrictamente prohibida la copia.\n",
    "- Pueden usar cualquier material del curso que estimen conveniente."
   ]
  },
  {
   "cell_type": "markdown",
   "metadata": {
    "id": "FNpMtVMZy6xR"
   },
   "source": [
    "<div style=\"text-align: center;\">\n",
    "    <img src=\"https://worldskateamerica.org/wp-content/uploads/2023/07/SANTIAGO-2023-1-768x153.jpg\" alt=\"Descripción de la imagen\">\n",
    "</div>\n",
    "\n",
    "En un Chile azotado por un profundo caos político-económico y el resurgimiento de programas de televisión de dudosa calidad, todas las miradas y esperanzas son depositadas en el éxito de un único evento: Santiago 2023. La nación necesitaba desesperadamente un respiro, y los Juegos de Santiago 2023 prometían ser una luz al final del túnel.\n",
    "\n",
    "El Presidente de la República -conocido en las calles como Bombín-, consciente de la importancia de este evento para la revitalización del país, decide convocar a usted y su equipo en calidad de expertos en análisis de datos y estadísticas. Con gran solemnidad, el presidente les encomienda una importante y peligrosa: liderar un proyecto que permitiera caracterizar de forma automática y eficiente los datos generados por estos magnos juegos. Para esto, el presidente le destaca que la solución debe considerar los siguientes puntos:\n",
    "- Caracterización automática de los datos\n",
    "- La solución debe ser compatible con cualquier dataset\n",
    "- Se les facilita el dataset *olimpiadas.parquet*, el cual recopila data de diferentes juegos olímpicos realizados en los últimos años"
   ]
  },
  {
   "cell_type": "markdown",
   "metadata": {
    "id": "QMutfXyfy6xR"
   },
   "source": [
    "## 1.1 Creación de `Profiler` Class (4.0 puntos)\n",
    "\n",
    "Cree la clase `Profiler`. Como mínimo, esta debe tener las siguientes funcionalidades:\n",
    "\n",
    "1. El método constructor, el cual debe recibir los datos a procesar en formato `Pandas DataFrame`. Además, este método debe generar una carpeta en su directorio de trabajo con el nombre `EDA_fecha`, donde `fecha` corresponda a la fecha de ejecución en formato `DD-MM-YYYY`.\n",
    "\n",
    "2. El método `summarize`, el cual debe caracterizar las variables del Dataset. Como mínimo, se espera que su método pueda:\n",
    "    - Implementar una funcionalidad para filtrar y aplicar este método a una o más variables de interés.\n",
    "    - Reportar el tipo de variable\n",
    "    - Reportar el número y/o porcentaje de valores únicos de la variable\n",
    "    - Reportar el número y/o porcentaje de valores nulos\n",
    "    - Si la variables es numérica:\n",
    "        - Reportar el número y/o porcentaje de valores cero, negativos y outliers\n",
    "        - Reportar estadística descriptiva como el valor mínimo, máximo, promedio y los percentiles 25, 50, 75 y 100\n",
    "   - Levantar una alerta en caso de encontrar alguna anomalía fuera de lo común (el criterio debe ser ajustable por el usuario)\n",
    "   - Guardar sus resultados en el directorio `EDA_fecha/summary.txt`. El archivo debe separar de forma clara y ordenada los resultados de cada punto.\n",
    "\n",
    "3. El método `plot_vars`, el cual debe graficar la distribución e interraciones de las variables del Dataset. Como mínimo, se espera que su método pueda:\n",
    "    - Crear la carpeta `EDA_fecha/plots`\n",
    "    - Implementar una funcionalidad para filtrar y aplicar este método a una o más variables de interés.\n",
    "    - Para las variables numéricas:\n",
    "        - Genere un gráfico de distribución de densidad\n",
    "        - Grafique la correlación entre las variables\n",
    "    - Para las variables categóricas:\n",
    "        - Genere un histograma de las top N categorías (N debe ser un parámetro ajustable)\n",
    "        - Grafique el coeficiente V de Cramer entre las variables\n",
    "    - Guardar cada gráfico generado en la carpeta `EDA_fecha/plots` en formato `.pdf` y bajo el naming `variable.pdf`, donde `variable` es el nombre de la variable de interés\n",
    "    \n",
    "4. El método `clean_data`, el cual debe limpiar los datos para que luego puedan ser procesados. Como mínimo, se espera que su método pueda:\n",
    "    - Crear la carpeta `EDA_fecha/clean_data`\n",
    "    - Implementar una funcionalidad para filtrar y aplicar este método a una o más variables de interés.\n",
    "    - Drop de valores duplicados\n",
    "    - Implementar como mínimo 2 técnicas para tratar los valores nulos, como:\n",
    "        - Drop de valores nulos\n",
    "        - Imputar valores nulos con alguna técnica de imputación\n",
    "        - Funcionalidad para escoger entre una técnica y la otra.\n",
    "    - Una de las columnas del dataframe presenta datos *no atómicos*. Separe dicha columna en las columnas que la compongan.\n",
    "        - Hint: ¿Qué caracteres permiten separar una columna de otra?\n",
    "        - Para las pruebas con el dataset nuevo, puede esperar que exista al menos una columna con este tipo de problema. Asuma que los separadores serán los mismos, aunque el número de columnas a separar puede ser distinto.\n",
    "    - Deberían usar `FunctionTransformer`.\n",
    "    - Guardar los datos procesados en formato `.csv` en el path `EDA_fecha/clean_data/data.csv`\n",
    "\n",
    "5. El método `scale`, el cual debe preparar adecuadamente los datos para luego ser consumidos por algún tipo de algoritmo. Como mínimo, se espera que su método pueda:\n",
    "    - Crear la carpeta `EDA_fecha/scale`\n",
    "    - Procesar de forma adecuada los datos numéricos y categóricos:\n",
    "        - Su método debe recibir las técnicas de escalamiento como argumento de entrada (utilizar solo técnicas compatibles con el framework de `sklearn`)\n",
    "        - Para los atributos numéricos, se transforme los datos con un escalador logarítmico y un `MinMaxScaler`\n",
    "        - Asuma que no existen datos ordinales en su dataset\n",
    "    - Guardar todo este procesamiento en un `ColumnTransformer`.\n",
    "    - Guardar los datos limpios y transformados en formato `.csv` en el path `EDA_fecha/process/scaled_features.csv`\n",
    "\n",
    "6. El método `make_clusters`, el cual debe generar clusters de los datos usando algún algoritmo de clusterización. Como mínimo, se espera que su método pueda:\n",
    "    - Crear la carpeta `EDA_fecha/clusters`\n",
    "    - Generar un estudio del codo donde señale la cantidad de clusters optimos para el desarrollo.\n",
    "    - Su método debe recibir el algoritmo de clustering como argumento de entrada (utilizar solo algoritmos compatibles con el framework de `sklearn`).\n",
    "    - No olvide pre procesar adecuadamente los datos antes de implementar la técnica de clustering.\n",
    "    - En este punto es espera que generen un `Pipeline` de sklearn. Además, su método debería usar lo construido en los puntos 4 y 5.\n",
    "    - Su método debe ser capaz de funcionar a partir de datos crudos (se descontará puntaje de lo contrario).\n",
    "    - Una vez generado los clusters, proyecte los datos a 2 dimensiones usando su técnica de reducción de dimensionalidad favorita y grafique los resultados coloreando por cluster.\n",
    "    - Guardar los datos con su respectivo cluster en formato `.csv` en el path `EDA_fecha/clusters/data_clusters.csv`. Guarde también los gráficos generados en el mismo path.\n",
    "\n",
    "7. El método `detect_anomalies`, el cual debe detectar anomalías en los datos. Como mínimo, se espera que su método pueda:\n",
    "\n",
    "    - Crear la carpeta `EDA_fecha/anomalies`\n",
    "    - Implementar alguna técnica de detección de anomalías.\n",
    "    - Al igual que el punto anterior, su método debe considerar los siguientes puntos:\n",
    "        - No olvide pre procesar de forma adecuada los datos antes de implementar la técnica de detección de anomalía.\n",
    "        - En este punto es espera que generen un `Pipeline` de sklearn. Además, su método debería usar lo construido en los puntos 4 y 5.\n",
    "        - Su método debe ser capaz de funcionar a partir de datos crudos (se descontará puntaje de lo contrario).\n",
    "        - Su método debe recibir el algoritmo como argumento de entrada\n",
    "        - Una vez generado las etiquetas, proyecte los datos a 2 dimensiones y grafique los resultados coloreando por las etiquetas predichas por el detector de anomalías\n",
    "    - Guardar los datos con su respectiva etiqueta en formato `.csv` en el path `EDA_fecha/anomalies/data_anomalies.csv`. Guarde también los gráficos generados en el mismo path.\n",
    "\n",
    "8. El método `profile`, el cual debe ejecutar todos los métodos anteriores.\n",
    "\n",
    "9. Crear el método `clearGarbage` para eliminar las carpetas/archivos creados/as por la clase `Profiler`.\n",
    "\n",
    "Algunas consideraciones generales:\n",
    "- Su clase será testeada con datos tabulares diferentes a los provistos. No desarrollen código *hardcodeado*: su clase debe ser capaz de funcionar para **cualquier** dataset.\n",
    "- Aplique todo su conocimiento sobre buenas prácticas de programación: se evaluará que su código sea limpio y ordenado.\n",
    "- Recuerden documentar cada una de las funcionalidades que implementen.\n",
    "- Recuerden adjuntar sus `requirements.txt` junto a su entrega de proyecto. **El código que no se pueda ejecutar por imcompatibilidades de librerías no será corregido.**"
   ]
  },
  {
   "cell_type": "code",
   "execution_count": 33,
   "metadata": {
    "id": "Kh8A54h0y6xT"
   },
   "outputs": [],
   "source": [
    "import numpy as np\n",
    "import pandas as pd\n",
    "import matplotlib.pyplot as plt\n",
    "import os\n",
    "import seaborn as sns\n",
    "import datetime\n",
    "import shutil\n",
    "from scipy.stats import chi2_contingency\n",
    "from sklearn.cluster import KMeans, DBSCAN, AgglomerativeClustering\n",
    "from sklearn.pipeline import Pipeline\n",
    "from sklearn.preprocessing import MinMaxScaler,FunctionTransformer\n",
    "from sklearn.compose import ColumnTransformer\n",
    "from sklearn.decomposition import PCA\n",
    "from tqdm import tqdm"
   ]
  },
  {
   "cell_type": "code",
   "execution_count": 34,
   "metadata": {
    "id": "pWG_VNX4y6xV"
   },
   "outputs": [],
   "source": [
    "#pip freeze > requirements.txt"
   ]
  },
  {
   "cell_type": "code",
   "execution_count": 35,
   "metadata": {
    "id": "XrDhWdwky6xW"
   },
   "outputs": [],
   "source": [
    "\n",
    "class Profiler():\n",
    "#TODO documentar los metodos\n",
    "    \"\"\" la clase profiler recibira un dataframe de pandas en el constructor\n",
    "    La función summarize recibe una LISTA de strings de los nombres de las variables (nombre de las columnas del pandas) a las cuales se desea verle su\n",
    "    informacion respectiva\n",
    "    \"\"\"\n",
    "    def __init__(self,df:pd.DataFrame) -> None:\n",
    "        self.df = df\n",
    "        self.current_date = datetime.datetime.now().strftime(f\"%d-%m-%Y\")\n",
    "\n",
    "        self.EDA_directory_name = f\"EDA_{self.current_date}\"\n",
    "        self.PLOT_directory_name = f\"{self.EDA_directory_name}/plots\"\n",
    "        self.CLEAN_directory_name = f\"{self.EDA_directory_name}/clean_data\"\n",
    "        self.CLUSTERS_directory_name = f\"{self.EDA_directory_name}/clusters\"\n",
    "        self.SCALE_directory_name = f\"{self.EDA_directory_name}/scaled\"\n",
    "        \n",
    "        self.categorical = self.df.select_dtypes(include=['object'])  # or exclude=['number'] for older versions\n",
    "        self.numerical = self.df.select_dtypes(include=['number'])  # or include=['number'] for older versions\n",
    "\n",
    "        # Define the directory name\n",
    "        try:\n",
    "            if os.path.exists(self.EDA_directory_name):\n",
    "                shutil.rmtree(self.EDA_directory_name)\n",
    "            os.mkdir(self.EDA_directory_name)\n",
    "            print(f\"Directory '{self.EDA_directory_name}' created (overwritten) successfully.\")\n",
    "        except Exception as e:\n",
    "            print(f\"An error occurred: {e}\")\n",
    "\n",
    "    def summarize(self,column_name:str or list=None):\n",
    "        \"\"\"summarize: recibe  un string con el nombre de una columna o una lista que contenga el nombre de las columnas a realizar resumen\n",
    "        Si se desea realizar un resumen al dataframe completo dejar la variable everything como True y column_name como None.\n",
    "        En caso de que se desee realizar un resumen por variable(s) seleccionada(s), dejar everything en falso e indicar la o las variables\n",
    "        en el formato ya dicho.\n",
    "\n",
    "        Esta función provee un txt guardado en la carpeta EDA_fecha con informacion del dataset o las variables, segun corresponda\n",
    "\n",
    "        Raises:\n",
    "            Exception: _description_\n",
    "\n",
    "        \"\"\"\n",
    "\n",
    "        def detect_outliers(column):\n",
    "            Q1 = column.quantile(0.25)\n",
    "            Q3 = column.quantile(0.75)\n",
    "            IQR = Q3 - Q1\n",
    "            lower_bound = Q1 - 1.5 * IQR\n",
    "            upper_bound = Q3 + 1.5 * IQR\n",
    "            outliers = (column < lower_bound) | (column > upper_bound)\n",
    "            return outliers.sum()\n",
    "\n",
    "        file_path = f\"{self.EDA_directory_name}/summary.txt\"\n",
    "        \n",
    "        def report_txt(vars):\n",
    "            with open(file_path, \"w\", encoding=\"utf-8\") as f:\n",
    "                    #print(\"Writing types...\")\n",
    "                    tipos = '\\n'.join(map(lambda x, y: f\"{x}: {y}\", vars, vars.dtypes))\n",
    "                    f.write(\"\\n\"+60*\"-\"+\"\\n\")\n",
    "                    f.write(\"Los tipos de las variables son: \"+\"\\n\")\n",
    "                    f.write(tipos)\n",
    "                    f.write(\"\\n\"+60*\"-\"+\"\\n\")\n",
    "                    #print(\"Writing NaNs...\")\n",
    "                    nan_values = '\\n'.join(map(lambda x, y: f\"{x}: {y}\", vars, vars.isna().sum().to_list()))\n",
    "                    f.write(\"Cantidad de NaNs por variable: \"+\"\\n\")\n",
    "                    f.write(nan_values)\n",
    "                    f.write(\"\\n\"+60*\"-\"+\"\\n\")\n",
    "                    #print(\"Writing unique values...\")\n",
    "                    unique_values = '\\n'.join(map(lambda x, y: f\"{x}: {y}\", vars, vars.nunique().to_list()))\n",
    "                    f.write(\"Cantidad de valores únicos por variable: \"+\"\\n\")\n",
    "                    f.write(unique_values)\n",
    "                    if self.numerical.shape[0] > 1: #si no hay numericas no hacer nada de esto\n",
    "                        f.write(\"\\n\"+60*\"-\"+\"\\n\")\n",
    "                        nceros = '\\n'.join(map(lambda x, y: f\"{x}: {y}\", self.numerical, (self.numerical == 0).sum().to_list()))\n",
    "                        f.write(\"Cantidad de ceros en las variables numericas: \"+\"\\n\")\n",
    "                        f.write(nceros)\n",
    "                        f.write(\"\\n\"+60*\"-\"+\"\\n\")\n",
    "                        promedios =  '\\n'.join(map(lambda x, y: f\"{x}: {y}\", self.numerical, self.numerical.mean().to_list()))\n",
    "                        f.write(\"Promedios de las variables numericas: \"+\"\\n\")\n",
    "                        f.write(promedios)\n",
    "                        f.write(\"\\n\"+60*\"-\"+\"\\n\")\n",
    "                        negativos = '\\n'.join(map(lambda x, y: f\"{x}: {y}\", self.numerical, (self.numerical < 0).sum().to_list()))\n",
    "                        f.write(\"Cantidad de negativos de las variables numericas: \"+\"\\n\")\n",
    "                        f.write(negativos)\n",
    "                        f.write(\"\\n\"+60*\"-\"+\"\\n\")\n",
    "                        maximos = '\\n'.join(map(lambda x, y: f\"{x}: {y}\", self.numerical, self.numerical.max().to_list()))\n",
    "                        f.write(\"Maximos de las variables numericas: \"+\"\\n\")\n",
    "                        f.write(maximos)\n",
    "                        f.write(\"\\n\"+60*\"-\"+\"\\n\")\n",
    "                        minimos = '\\n'.join(map(lambda x, y: f\"{x}: {y}\", self.numerical, self.numerical.min().to_list()))\n",
    "                        f.write(\"Mínimos de las variables numericas: \"+\"\\n\")\n",
    "                        f.write(minimos)\n",
    "                        f.write(\"\\n\"+60*\"-\"+\"\\n\")\n",
    "                        outliers = '\\n'.join(map(lambda x, y: f\"{x}: {y}\", self.numerical, self.numerical.apply(detect_outliers)))\n",
    "                        f.write(\"Outliers de las variables numericas: \"+\"\\n\")\n",
    "                        f.write(outliers)\n",
    "                        f.write(\"\\n\"+60*\"-\"+\"\\n\")\n",
    "                        values_perc = [0.25, 0.5, 0.75, 1.0]\n",
    "                        percentiles = self.numerical.quantile(values_perc).values\n",
    "                        for idx,perc in enumerate(values_perc):\n",
    "                            f.write(\"Percentil \" + str(perc*100) + \" de las variables numericas: \"+\"\\n\")\n",
    "                            perc_val = '\\n'.join(map(lambda x, y: f\"{x}: {y}\", self.numerical, percentiles[idx]))\n",
    "                            f.write(perc_val)\n",
    "                            f.write(\"\\n\"+60*\"-\"+\"\\n\")\n",
    "                    f.close()\n",
    "                    print(f\"Summary.txt has been successfully exported too {self.EDA_directory_name}\")\n",
    "            with open(file_path, 'r') as file:\n",
    "                # Read the entire content of the file\n",
    "                file_content = file.read()\n",
    "                # Print the content to the console\n",
    "                print(file_content)\n",
    "                    \n",
    "        try:\n",
    "            if column_name is None:\n",
    "              report_txt(self.df)\n",
    "\n",
    "            elif isinstance(column_name, str):\n",
    "                var = self.df[[column_name]]\n",
    "                report_txt(var)\n",
    "\n",
    "            elif isinstance(column_name,list):\n",
    "                if not column_name:\n",
    "                    raise ValueError(\"The input columns list is empty\")\n",
    "                vars =  self.df[column_name]\n",
    "                report_txt(vars)\n",
    "\n",
    "        except Exception as e:\n",
    "            print(f'Exception Error: {e}')\n",
    "\n",
    "\n",
    "    def plot_vars(self,column_name= None,N_adj = 10):\n",
    "        \"\"\"\n",
    "        Plots various visualizations for the specified column(s) in the DataFrame.\n",
    "\n",
    "        Args:\n",
    "            column_name (str or list): The name of the column or a list of column names to visualize.\n",
    "            N_adj (int, optional): The number of top categories to consider in histograms. Defaults to 10.\n",
    "\n",
    "        Raises:\n",
    "            ValueError: If the input columns list is empty.\n",
    "\n",
    "        Returns:\n",
    "            None\n",
    "        \"\"\"\n",
    "        try:\n",
    "            if os.path.exists(self.PLOT_directory_name):\n",
    "                shutil.rmtree(self.PLOT_directory_name)\n",
    "            os.mkdir(self.PLOT_directory_name)\n",
    "            print(f\"Directory '{self.PLOT_directory_name}' created (overwritten) successfully.\")\n",
    "        except Exception as e:\n",
    "            print(f\"An error occurred: {e}\")\n",
    "\n",
    "        def correlation_plot(variables:list):\n",
    "\n",
    "            \"\"\"\n",
    "            Plots a correlation matrix heatmap for a list of numerical variables.\n",
    "\n",
    "            Args:\n",
    "                variables (list): A list of column names representing numerical variables.\n",
    "\n",
    "            Returns:\n",
    "                None\n",
    "            \"\"\"\n",
    "\n",
    "            #TODO revisar que los elementos de la lista sean todos str try/except\n",
    "            correlation_matrix = np.corrcoef(self.numerical[variables], rowvar=False)\n",
    "            plt.figure()  # Set the figure size\n",
    "\n",
    "            # Create a heatmap using Seaborn\n",
    "            sns.heatmap(correlation_matrix, cmap='coolwarm', annot=True, fmt='.2f', xticklabels=variables, yticklabels=variables)\n",
    "            plt.title('Correlation Matrix')\n",
    "\n",
    "\n",
    "        def histogram(var: pd.Series, N: int):\n",
    "            \"\"\"\n",
    "            Plots a histogram for a categorical variable.\n",
    "\n",
    "            Args:\n",
    "                var (pd.Series): A pandas Series representing a categorical variable.\n",
    "                N (int): The number of top categories to display in the histogram.\n",
    "\n",
    "            Returns:\n",
    "                None\n",
    "            \"\"\"\n",
    "            category_counts = var.value_counts()\n",
    "            top_N_categories = category_counts.head(N)\n",
    "            plt.bar(top_N_categories.index, top_N_categories.values)\n",
    "            plt.xlabel('Category')\n",
    "            plt.ylabel('Frequency')\n",
    "            plt.xticks(rotation=45)\n",
    "            plt.title(f'Top {N} Categories Histogram for variable {var.name}')\n",
    "            \n",
    "        def cramers_v(confusion_matrix):\n",
    "            \"\"\"\n",
    "            Calculates Cramer's V statistic for two categorical variables.\n",
    "\n",
    "            Args:\n",
    "                confusion_matrix (pd.DataFrame): The contingency table of two categorical variables.\n",
    "\n",
    "            Returns:\n",
    "                float: The Cramer's V statistic.\n",
    "\n",
    "            Notes:\n",
    "                Cramer's V is a measure of association for categorical variables.\n",
    "\n",
    "            \"\"\"\n",
    "            chi2 = chi2_contingency(confusion_matrix)[0]\n",
    "            n = confusion_matrix.sum().sum()\n",
    "            phi2 = chi2 / n\n",
    "            r, k = confusion_matrix.shape\n",
    "            phi2corr = max(0, phi2 - ((k - 1) * (r - 1)) / (n - 1))\n",
    "            rcorr = r - ((r - 1)**2) / (n - 1)\n",
    "            kcorr = k - ((k - 1)**2) / (n - 1)\n",
    "            return np.sqrt(phi2corr / min((kcorr - 1), (rcorr - 1)))\n",
    "\n",
    "        def cramer_v_plot(variables):\n",
    "            \"\"\"\n",
    "            Plots a heatmap of Cramer's V values for all pairs of categorical variables.\n",
    "\n",
    "            Args:\n",
    "                variables (list): A list of column names representing categorical variables.\n",
    "\n",
    "            Returns:\n",
    "                None\n",
    "            \"\"\"\n",
    "            # Extract categorical columns from the DataFrame\n",
    "            categorical_cols = self.categorical[variables]\n",
    "\n",
    "            # Calculate Cramer's V for all pairs of categorical columns\n",
    "            results = pd.DataFrame(index=categorical_cols.columns, columns=categorical_cols.columns, dtype=float)\n",
    "\n",
    "            for col1 in categorical_cols.columns:\n",
    "                for col2 in categorical_cols.columns:\n",
    "                    confusion_matrix = pd.crosstab(categorical_cols[col1], categorical_cols[col2])\n",
    "                    results.loc[col1, col2] = cramers_v(confusion_matrix)\n",
    "\n",
    "            # Create a heatmap to visualize Cramer's V\n",
    "            plt.figure()\n",
    "            sns.heatmap(results, annot=True, cmap=\"coolwarm\", linewidths=.5)\n",
    "            plt.title(\"Cramer's V Heatmap\")\n",
    "\n",
    "        try:\n",
    "            if column_name is None:\n",
    "                present_num = self.numerical\n",
    "                present_cat = self.categorical\n",
    "\n",
    "                if len(present_num) > 1:\n",
    "                    correlation_plot(present_num.columns)\n",
    "                    plt.gcf()  # Get the current figure\n",
    "                    plt.savefig(f\"{self.PLOT_directory_name}/corr.pdf\", format = 'pdf')\n",
    "                    plt.show()\n",
    "\n",
    "                if len(present_cat) > 1:\n",
    "                    cramer_v_plot(present_cat.columns)\n",
    "                    plt.gcf()  # Get the current figure\n",
    "                    plt.savefig(f\"{self.PLOT_directory_name}/cramer_v.pdf\", format = 'pdf')\n",
    "                    plt.show()\n",
    "\n",
    "                for col in self.df.columns:\n",
    "                    if col in self.numerical.columns:\n",
    "                        var = self.df[col]\n",
    "                        var.plot.density(title = f\"Plot de densidad para la variable {col}\")\n",
    "                        plt.savefig(f\"{self.PLOT_directory_name}/{col}.pdf\", format = 'pdf')\n",
    "                        plt.show()\n",
    "                    if col in self.categorical.columns:\n",
    "                    #TODO agregar N top categories en histplot\n",
    "                        histogram(self.df[col],N= N_adj)\n",
    "                        plt.gcf()  # Get the current figure\n",
    "                        plt.savefig(f\"{self.PLOT_directory_name}/{col}.pdf\", format = 'pdf')\n",
    "                        plt.show()\n",
    "\n",
    "            if isinstance(column_name, str):\n",
    "                var = self.df[column_name]\n",
    "                var.plot.density(title=f\"Plot de densidad para la variable {column_name}\")\n",
    "                plt.savefig(f\"{self.PLOT_directory_name}/{column_name}.pdf\", format = 'pdf')\n",
    "                plt.show()\n",
    "\n",
    "            elif isinstance(column_name,list):\n",
    "                present_num = [i for i in self.numerical if i in column_name]\n",
    "                present_cat = [i for i in self.categorical if i in column_name]\n",
    "\n",
    "                if present_num and len(present_num) > 1:\n",
    "                    correlation_plot(present_num)\n",
    "                    plt.gcf()  # Get the current figure\n",
    "                    plt.savefig(f\"{self.PLOT_directory_name}/corr.pdf\", format = 'pdf')\n",
    "                    plt.show()\n",
    "\n",
    "                if present_cat and len(present_cat) > 1:\n",
    "                    cramer_v_plot(present_cat)\n",
    "                    plt.gcf()  # Get the current figure\n",
    "                    plt.savefig(f\"{self.PLOT_directory_name}/cramer_v.pdf\", format = 'pdf')\n",
    "                    plt.show()\n",
    "\n",
    "                for col in column_name:\n",
    "                    if col in self.numerical.columns:\n",
    "                        var = self.df[col]\n",
    "                        var.plot.density(title = f\"Plot de densidad para la variable {col}\")\n",
    "                        plt.savefig(f\"{self.PLOT_directory_name}/{col}.pdf\", format = 'pdf')\n",
    "                        plt.show()\n",
    "                    if col in self.categorical.columns:\n",
    "                    #TODO agregar N top categories en histplot\n",
    "                        histogram(self.df[col],N= N_adj)\n",
    "                        plt.gcf()  # Get the current figure\n",
    "                        plt.savefig(f\"{self.PLOT_directory_name}/{col}.pdf\", format = 'pdf')\n",
    "                        plt.show()\n",
    "\n",
    "        except Exception as e:\n",
    "            print(f'Exception Error: {e}')\n",
    "\n",
    "\n",
    "    def clean_data(self,non_atomic:list=None,column_name: str or list= None, everything=True, nan_treatment = \"delete\"):\n",
    "        \"\"\"\n",
    "        Cleans the data based on the specified parameters and generates a cleaned .csv file.\n",
    "\n",
    "        Args:\n",
    "            non_atomic (list or None): A list of non-atomic column names in the dataset.\n",
    "            If there is only one non-atomic column, it should still be provided as a list. If there are no non-atomic columns, set this parameter to None.\n",
    "            If you want to clean the atomic column along with specific other variables, include the atomic column name in column_name.\n",
    "            column_name (list or str): A list of column names or a single column name to be cleaned.\n",
    "            everything (bool): Set to True to clean the entire dataset. If True, non_atomic should be provided as needed, and column_name should be None.\n",
    "            nan_treatment (str): Options for handling NaN values, which include: \"delete\" (remove rows with NaNs), \"mean\" (replace NaNs with the column's mean for numerical columns), and \"zeros\" (replace NaNs with zeros).\n",
    "\n",
    "        Returns:\n",
    "            None\n",
    "\n",
    "        Notes:\n",
    "            This function generates a .csv file containing the cleaned variables in the 'EDA_fecha/clean/' folder.\n",
    "        \"\"\"\n",
    "        try:\n",
    "            if os.path.exists(self.CLEAN_directory_name):\n",
    "                shutil.rmtree(self.CLEAN_directory_name)\n",
    "            os.mkdir(self.CLEAN_directory_name)\n",
    "            print(f\"Directory '{self.CLEAN_directory_name}' created (overwritten) successfully.\")\n",
    "        except Exception as e:\n",
    "            print(f\"An error occurred: {e}\")\n",
    "        file_path=f\"{self.CLEAN_directory_name}/data.csv\"\n",
    "        if everything:\n",
    "            to_clean = self.df\n",
    "            columnas = to_clean.columns.to_list()\n",
    "        else:\n",
    "            to_clean =  self.df[column_name]\n",
    "            columnas = column_name\n",
    "        def clean_data_func(df, non_atomic=None, column_name=None, everything=True, nan_treatment=\"delete\"):\n",
    "            if everything == True and column_name is not None:\n",
    "                raise Exception(\"No puedes entregar variables especificas con everything en True!\")\n",
    "\n",
    "            if non_atomic is not None and non_atomic in columnas:\n",
    "                for name_col in non_atomic:\n",
    "                    non_atomic_data = df[name_col].str.split(r'[^0-9]+', expand=True)\n",
    "                    n_new_atomic = non_atomic_data.shape[1]\n",
    "                    new_names = [f\"{name_col}_atomic_{i+1}\" for i in range(n_new_atomic)]\n",
    "                    df[new_names] = non_atomic_data\n",
    "                    df[new_names] = df[new_names].apply(pd.to_numeric)\n",
    "                    df.drop(name_col, axis=1, inplace=True)\n",
    "\n",
    "            not_dupe = df.drop_duplicates()\n",
    "\n",
    "            if nan_treatment == \"delete\":\n",
    "                not_na = not_dupe.dropna()\n",
    "            elif nan_treatment == \"mean\":\n",
    "                not_na = not_dupe.fillna(not_dupe.mean())\n",
    "            elif nan_treatment == \"zeros\":\n",
    "                not_na = not_dupe.fillna(0)\n",
    "            else:\n",
    "                raise Exception(\"Tratamiento no disponible!\")\n",
    "\n",
    "            return not_na\n",
    "\n",
    "        clean_data_transformer = FunctionTransformer(clean_data_func, \\\n",
    "            kw_args={'non_atomic': non_atomic, 'column_name': column_name, 'everything': everything, 'nan_treatment': nan_treatment})\n",
    "\n",
    "        # Apply the FunctionTransformer to your DataFrame\n",
    "        df_limpio = clean_data_transformer.transform(to_clean)\n",
    "\n",
    "        # Save the cleaned DataFrame to a CSV file\n",
    "        df_limpio.to_csv(f\"{self.EDA_directory_name}/clean_data/data.csv\", index=False)\n",
    "        print(\"porcentaje de data retenida: \",df_limpio.shape[0]/to_clean.shape[0])\n",
    "        not_na.to_csv(file_path)\n",
    "        self.df = df_limpio\n",
    "\n",
    "\n",
    "    \"\"\"Scale: Este metodo escala los datos numericos primero aplicando logaritmo y despues un escalamiento MinMax\n",
    "\n",
    "    En caso de que se desee realizar escalamiento a los datos categóricos, ingresar un escalamiento del framework de sklearn\n",
    "    en la variable categorical_method. Si no, dejar como None\n",
    "\n",
    "    Este metodo guarda los datos escalados a partir de los datos limpios guardados en el metodo anterior. Los datos escalados\n",
    "    son guardados en la carpeta EDA_fecha/scale\n",
    "    \"\"\"\n",
    "    def scale(self,categorical_method=None):\n",
    "        \"\"\"\n",
    "        Scales the numerical data by first applying logarithm transformation and then using Min-Max scaling.\n",
    "\n",
    "        Args:\n",
    "        categorical_method: Scikit-learn scaling method to be applied to categorical data. If scaling is not needed for categorical data, leave this parameter as None.\n",
    "\n",
    "        Returns:\n",
    "        None\n",
    "\n",
    "        Notes:\n",
    "        This method scales the data based on the previously cleaned data and saves the scaled data in the 'EDA_fecha/scale' folder.\n",
    "        \"\"\"\n",
    "        try:\n",
    "            if os.path.exists(self.SCALE_directory_name):\n",
    "                shutil.rmtree(self.SCALE_directory_name)\n",
    "            os.mkdir(self.SCALE_directory_name)\n",
    "            print(f\"Directory '{self.SCALE_directory_name}' created (overwritten) successfully.\")\n",
    "        except Exception as e:\n",
    "            print(f\"An error occurred: {e}\")\n",
    "\n",
    "        file_path = f\"{self.SCALE_directory_name}/scaled_features.csv\"\n",
    "        clean_path = f\"{self.CLEAN_directory_name}/data.csv\"\n",
    "        clean_data = pd.read_csv(clean_path)\n",
    "\n",
    "        categoricas = clean_data.select_dtypes(include=['object']).columns\n",
    "        numericas = clean_data.select_dtypes(include=['number']).columns\n",
    "\n",
    "        numericas_transf = Pipeline(steps=[('log', FunctionTransformer(func=np.log10)),('minmax', MinMaxScaler())])\n",
    "        if categorical_method != None:\n",
    "            categoricas_transf = Pipeline(steps=[('categoricas', eval(categorical_method)())])\n",
    "            preprocessor = ColumnTransformer(transformers=[('var_cat', categoricas_transf, categoricas),('var_num', numericas_transf, numericas)])\n",
    "        else:\n",
    "            preprocessor = ColumnTransformer(transformers=[('var_num', numericas_transf, numericas)])\n",
    "        data_procesada = preprocessor.fit_transform(clean_data)\n",
    "        self.df = pd.DataFrame(data_procesada)\n",
    "        self.df.to_csv(file_path)\n",
    "\n",
    "\n",
    "\n",
    "    def make_clusters(self, clustering_algorithm, n_clusters = None, columns_name=None):\n",
    "        \"\"\"Create clusters using K-Means and visualize the results.\n",
    "\n",
    "        This function creates clusters from the input data using K-Means clustering.\n",
    "        It can also automatically determine the optimal number of clusters using\n",
    "        the elbow method. The resulting clusters are visualized in a scatter plot\n",
    "        using PCA.\n",
    "\n",
    "        Args:\n",
    "            n_clusters (int, optional): The number of clusters to create. If None, the\n",
    "                function will automatically determine the optimal number of clusters\n",
    "                using the elbow method. Defaults to None.\n",
    "            columns_name (list, optional): List of column names to use for clustering.\n",
    "                If None, all columns from the DataFrame are used. Defaults to None.\n",
    "\n",
    "        Returns:\n",
    "            None\n",
    "\n",
    "        Note:\n",
    "            If `n_clusters` is not provided, this function will determine the optimal\n",
    "            number of clusters using the elbow method. It is recommended to set\n",
    "            `n_clusters` to None for optimal results.\n",
    "        \"\"\"\n",
    "        try:\n",
    "            if os.path.exists(self.CLUSTERS_directory_name):\n",
    "                shutil.rmtree(self.CLUSTERS_directory_name)\n",
    "            os.mkdir(self.CLUSTERS_directory_name)\n",
    "            print(f\"Directory '{self.CLUSTERS_directory_name}' created (overwritten) successfully.\")\n",
    "        except Exception as e:\n",
    "            print(f\"An error occurred: {e}\")\n",
    "        if columns_name == None:\n",
    "            copy_df = self.df\n",
    "        else:\n",
    "            copy_df = self.df[columns_name]\n",
    "            #TODO add preprocessing just in case\n",
    "            \n",
    "        \n",
    "        def auto_elbow_method(data,n_clusters_range:np.linspace = np.linspace(2,10, 8,dtype = int),_n_init = 5, plot_elbow = True,**kwargs):\n",
    "            \"\"\"auto elbow method for kmeans\n",
    "\n",
    "            Args:\n",
    "                data (_type_): data to clusterize\n",
    "                n_clusters_range (np.linspace): range of n_clusters for elbow method\n",
    "                _n_init (int, optional): number of kmeans init. Defaults to 5.\n",
    "                _random_state (int, optional): for replicability. Defaults to 42.\n",
    "                plot (bool, optional): plots elbow method. Defaults to False.\n",
    "\n",
    "            Returns:\n",
    "                _n_clusters_ (int): returns number of clusters for kmeans\n",
    "            \"\"\"\n",
    "            # Range of cluster numbers to try\n",
    "            # Initialize an empty list to store the variance explained by each cluster\n",
    "            inertia = []\n",
    "\n",
    "            # Perform K-Means clustering for different values of k\n",
    "            for n_clusters in tqdm(n_clusters_range,desc='testing clusters in elbow method'):\n",
    "                kmeans = KMeans(n_clusters=n_clusters,n_init=_n_init)\n",
    "                kmeans.fit(data)\n",
    "                inertia.append(kmeans.inertia_)\n",
    "\n",
    "            if plot_elbow:\n",
    "                # Create the Elbow Method graph\n",
    "                plt.figure()\n",
    "                plt.plot(n_clusters_range, inertia, marker='o')\n",
    "                plt.title('Elbow Method for Optimal K')\n",
    "                plt.xlabel('Number of Clusters (K)')\n",
    "                plt.ylabel('Variance Explained (Inertia)')\n",
    "                plt.grid(True)\n",
    "                plt.show()\n",
    "            variation = [(inertia[i] - inertia[i+1])/ inertia[i] * 100 for i in range(len(inertia)-1)]\n",
    "            n_clusters = n_clusters_range[variation.index(max(variation)) + 1]\n",
    "            print(f\"Optimal n_clusters is {int(n_clusters)}\")\n",
    "            return n_clusters\n",
    "\n",
    "        pca = PCA(n_components=2)\n",
    "        if isinstance(clustering_algorithm,KMeans) and n_clusters is None:\n",
    "            print(f'n_clusters is set to None. n_clusters will be initialized via the internal auto_elbow_method function.')\n",
    "            n_clusters =  auto_elbow_method(self.df)\n",
    "            clustering_algorithm.set_params(n_clusters = n_clusters)\n",
    "        # Create a pipeline with PCA and KMeans\n",
    "        cluster_pipeline = Pipeline([\n",
    "        ('clustering', clustering_algorithm),\n",
    "         ('pca', pca)\n",
    "        ])\n",
    "        cluster_labels = cluster_pipeline['clustering'].fit_predict(self.df)\n",
    "        X_pca = cluster_pipeline['pca'].fit_transform(self.df)\n",
    "        plt.scatter(X_pca[:, 0], X_pca[:, 1], c=cluster_labels, cmap='viridis')\n",
    "        plt.title('PCA Scatter Plot with Clusters')\n",
    "        plt.xlabel('PCA Component 1')\n",
    "        plt.ylabel('PCA Component 2')\n",
    "        plt.show()\n",
    "    def detect_anomalies():\n",
    "\n",
    "        pass\n",
    "\n",
    "\n",
    "    \"\"\"\n",
    "    Este metodo ejecuta todos los metodos de la clase exceptuando clearGarbage y este mismo metodo\n",
    "    Cabe decir que se ejecutarán todos los metodos en su configuración por defecto\n",
    "    \"\"\"\n",
    "    def profile(self):\n",
    "        \"\"\"\n",
    "        Executes all callable methods of the class, excluding specific methods.\n",
    "\n",
    "        Calls all callable methods of the class except those listed in 'no_incluir' list.\n",
    "\n",
    "        Args:\n",
    "            None\n",
    "\n",
    "        Returns:\n",
    "            None\n",
    "        \"\"\"\n",
    "        metodos = [method for method in dir(self) if callable(getattr(self, method)) and not method.startswith(\"__\")]\n",
    "        no_incluir = [\"profile\", \"clearGarbage\"]\n",
    "        for nombre in metodos:\n",
    "            if nombre not in no_incluir:\n",
    "                metodo = getattr(self, nombre)\n",
    "                metodo()\n",
    "\n",
    "    \"Este metodo borra todos los contenidos de la carpeta EDA_fecha, pero no esta carpeta.\"\n",
    "    def clearGarbage(self):\n",
    "        \"\"\"\n",
    "        Deletes all contents within the 'EDA_fecha' folder but leaves the folder itself.\n",
    "\n",
    "        Removes all files and subfolders within the 'EDA_fecha' directory while keeping the directory itself.\n",
    "\n",
    "        Args:\n",
    "            None\n",
    "\n",
    "        Returns:\n",
    "            None\n",
    "        \"\"\"\n",
    "        for raiz, carpetas, archivos in os.walk(self.EDA_directory_name, topdown=False):\n",
    "            for folder in carpetas:\n",
    "                folder_path = os.path.join(raiz, folder)\n",
    "                shutil.rmtree(folder_path)\n",
    "            for file in archivos:\n",
    "                file_path = os.path.join(raiz, file)\n",
    "                os.remove(file_path)"
   ]
  },
  {
   "cell_type": "code",
   "execution_count": 36,
   "metadata": {
    "colab": {
     "base_uri": "https://localhost:8080/",
     "height": 684
    },
    "id": "nNEkogGrUPjn",
    "outputId": "16a72c25-a48f-4c30-c841-c6acde0914cf"
   },
   "outputs": [
    {
     "data": {
      "text/html": [
       "<div>\n",
       "<style scoped>\n",
       "    .dataframe tbody tr th:only-of-type {\n",
       "        vertical-align: middle;\n",
       "    }\n",
       "\n",
       "    .dataframe tbody tr th {\n",
       "        vertical-align: top;\n",
       "    }\n",
       "\n",
       "    .dataframe thead th {\n",
       "        text-align: right;\n",
       "    }\n",
       "</style>\n",
       "<table border=\"1\" class=\"dataframe\">\n",
       "  <thead>\n",
       "    <tr style=\"text-align: right;\">\n",
       "      <th></th>\n",
       "      <th>ID</th>\n",
       "      <th>Name</th>\n",
       "      <th>Sex</th>\n",
       "      <th>Team</th>\n",
       "      <th>NOC</th>\n",
       "      <th>Games</th>\n",
       "      <th>Year</th>\n",
       "      <th>Season</th>\n",
       "      <th>City</th>\n",
       "      <th>Sport</th>\n",
       "      <th>Event</th>\n",
       "      <th>Medal</th>\n",
       "      <th>age-height-weight</th>\n",
       "    </tr>\n",
       "  </thead>\n",
       "  <tbody>\n",
       "    <tr>\n",
       "      <th>0</th>\n",
       "      <td>1</td>\n",
       "      <td>A Dijiang</td>\n",
       "      <td>M</td>\n",
       "      <td>China</td>\n",
       "      <td>CHN</td>\n",
       "      <td>1992 Summer</td>\n",
       "      <td>1992</td>\n",
       "      <td>Summer</td>\n",
       "      <td>Barcelona</td>\n",
       "      <td>Basketball</td>\n",
       "      <td>Basketball Men's Basketball</td>\n",
       "      <td>None</td>\n",
       "      <td>24.0*180.0?80.0</td>\n",
       "    </tr>\n",
       "    <tr>\n",
       "      <th>1</th>\n",
       "      <td>2</td>\n",
       "      <td>A Lamusi</td>\n",
       "      <td>M</td>\n",
       "      <td>China</td>\n",
       "      <td>CHN</td>\n",
       "      <td>2012 Summer</td>\n",
       "      <td>2012</td>\n",
       "      <td>Summer</td>\n",
       "      <td>London</td>\n",
       "      <td>Judo</td>\n",
       "      <td>Judo Men's Extra-Lightweight</td>\n",
       "      <td>None</td>\n",
       "      <td>23.0(170.0?60.0</td>\n",
       "    </tr>\n",
       "    <tr>\n",
       "      <th>2</th>\n",
       "      <td>3</td>\n",
       "      <td>Gunnar Nielsen Aaby</td>\n",
       "      <td>M</td>\n",
       "      <td>Denmark</td>\n",
       "      <td>DEN</td>\n",
       "      <td>1920 Summer</td>\n",
       "      <td>1920</td>\n",
       "      <td>Summer</td>\n",
       "      <td>Antwerpen</td>\n",
       "      <td>Football</td>\n",
       "      <td>Football Men's Football</td>\n",
       "      <td>None</td>\n",
       "      <td>24.0(nan?nan</td>\n",
       "    </tr>\n",
       "    <tr>\n",
       "      <th>3</th>\n",
       "      <td>4</td>\n",
       "      <td>Edgar Lindenau Aabye</td>\n",
       "      <td>M</td>\n",
       "      <td>Denmark/Sweden</td>\n",
       "      <td>DEN</td>\n",
       "      <td>1900 Summer</td>\n",
       "      <td>1900</td>\n",
       "      <td>Summer</td>\n",
       "      <td>Paris</td>\n",
       "      <td>Tug-Of-War</td>\n",
       "      <td>Tug-Of-War Men's Tug-Of-War</td>\n",
       "      <td>Gold</td>\n",
       "      <td>34.0:nan?nan</td>\n",
       "    </tr>\n",
       "    <tr>\n",
       "      <th>4</th>\n",
       "      <td>5</td>\n",
       "      <td>Christine Jacoba Aaftink</td>\n",
       "      <td>F</td>\n",
       "      <td>Netherlands</td>\n",
       "      <td>NED</td>\n",
       "      <td>1988 Winter</td>\n",
       "      <td>1988</td>\n",
       "      <td>Winter</td>\n",
       "      <td>Calgary</td>\n",
       "      <td>Speed Skating</td>\n",
       "      <td>Speed Skating Women's 500 metres</td>\n",
       "      <td>None</td>\n",
       "      <td>21.0(185.0?82.0</td>\n",
       "    </tr>\n",
       "    <tr>\n",
       "      <th>...</th>\n",
       "      <td>...</td>\n",
       "      <td>...</td>\n",
       "      <td>...</td>\n",
       "      <td>...</td>\n",
       "      <td>...</td>\n",
       "      <td>...</td>\n",
       "      <td>...</td>\n",
       "      <td>...</td>\n",
       "      <td>...</td>\n",
       "      <td>...</td>\n",
       "      <td>...</td>\n",
       "      <td>...</td>\n",
       "      <td>...</td>\n",
       "    </tr>\n",
       "    <tr>\n",
       "      <th>271111</th>\n",
       "      <td>135569</td>\n",
       "      <td>Andrzej ya</td>\n",
       "      <td>M</td>\n",
       "      <td>Poland-1</td>\n",
       "      <td>POL</td>\n",
       "      <td>1976 Winter</td>\n",
       "      <td>1976</td>\n",
       "      <td>Winter</td>\n",
       "      <td>Innsbruck</td>\n",
       "      <td>Luge</td>\n",
       "      <td>Luge Mixed (Men)'s Doubles</td>\n",
       "      <td>None</td>\n",
       "      <td>29.0:179.0?89.0</td>\n",
       "    </tr>\n",
       "    <tr>\n",
       "      <th>271112</th>\n",
       "      <td>135570</td>\n",
       "      <td>Piotr ya</td>\n",
       "      <td>M</td>\n",
       "      <td>Poland</td>\n",
       "      <td>POL</td>\n",
       "      <td>2014 Winter</td>\n",
       "      <td>2014</td>\n",
       "      <td>Winter</td>\n",
       "      <td>Sochi</td>\n",
       "      <td>Ski Jumping</td>\n",
       "      <td>Ski Jumping Men's Large Hill, Individual</td>\n",
       "      <td>None</td>\n",
       "      <td>27.0:176.0?59.0</td>\n",
       "    </tr>\n",
       "    <tr>\n",
       "      <th>271113</th>\n",
       "      <td>135570</td>\n",
       "      <td>Piotr ya</td>\n",
       "      <td>M</td>\n",
       "      <td>Poland</td>\n",
       "      <td>POL</td>\n",
       "      <td>2014 Winter</td>\n",
       "      <td>2014</td>\n",
       "      <td>Winter</td>\n",
       "      <td>Sochi</td>\n",
       "      <td>Ski Jumping</td>\n",
       "      <td>Ski Jumping Men's Large Hill, Team</td>\n",
       "      <td>None</td>\n",
       "      <td>27.0*176.0?59.0</td>\n",
       "    </tr>\n",
       "    <tr>\n",
       "      <th>271114</th>\n",
       "      <td>135571</td>\n",
       "      <td>Tomasz Ireneusz ya</td>\n",
       "      <td>M</td>\n",
       "      <td>Poland</td>\n",
       "      <td>POL</td>\n",
       "      <td>1998 Winter</td>\n",
       "      <td>1998</td>\n",
       "      <td>Winter</td>\n",
       "      <td>Nagano</td>\n",
       "      <td>Bobsleigh</td>\n",
       "      <td>Bobsleigh Men's Four</td>\n",
       "      <td>None</td>\n",
       "      <td>30.0(185.0?96.0</td>\n",
       "    </tr>\n",
       "    <tr>\n",
       "      <th>271115</th>\n",
       "      <td>135571</td>\n",
       "      <td>Tomasz Ireneusz ya</td>\n",
       "      <td>M</td>\n",
       "      <td>Poland</td>\n",
       "      <td>POL</td>\n",
       "      <td>2002 Winter</td>\n",
       "      <td>2002</td>\n",
       "      <td>Winter</td>\n",
       "      <td>Salt Lake City</td>\n",
       "      <td>Bobsleigh</td>\n",
       "      <td>Bobsleigh Men's Four</td>\n",
       "      <td>None</td>\n",
       "      <td>34.0(185.0?96.0</td>\n",
       "    </tr>\n",
       "  </tbody>\n",
       "</table>\n",
       "<p>271116 rows × 13 columns</p>\n",
       "</div>"
      ],
      "text/plain": [
       "            ID                      Name Sex            Team  NOC  \\\n",
       "0            1                 A Dijiang   M           China  CHN   \n",
       "1            2                  A Lamusi   M           China  CHN   \n",
       "2            3       Gunnar Nielsen Aaby   M         Denmark  DEN   \n",
       "3            4      Edgar Lindenau Aabye   M  Denmark/Sweden  DEN   \n",
       "4            5  Christine Jacoba Aaftink   F     Netherlands  NED   \n",
       "...        ...                       ...  ..             ...  ...   \n",
       "271111  135569                Andrzej ya   M        Poland-1  POL   \n",
       "271112  135570                  Piotr ya   M          Poland  POL   \n",
       "271113  135570                  Piotr ya   M          Poland  POL   \n",
       "271114  135571        Tomasz Ireneusz ya   M          Poland  POL   \n",
       "271115  135571        Tomasz Ireneusz ya   M          Poland  POL   \n",
       "\n",
       "              Games  Year  Season            City          Sport  \\\n",
       "0       1992 Summer  1992  Summer       Barcelona     Basketball   \n",
       "1       2012 Summer  2012  Summer          London           Judo   \n",
       "2       1920 Summer  1920  Summer       Antwerpen       Football   \n",
       "3       1900 Summer  1900  Summer           Paris     Tug-Of-War   \n",
       "4       1988 Winter  1988  Winter         Calgary  Speed Skating   \n",
       "...             ...   ...     ...             ...            ...   \n",
       "271111  1976 Winter  1976  Winter       Innsbruck           Luge   \n",
       "271112  2014 Winter  2014  Winter           Sochi    Ski Jumping   \n",
       "271113  2014 Winter  2014  Winter           Sochi    Ski Jumping   \n",
       "271114  1998 Winter  1998  Winter          Nagano      Bobsleigh   \n",
       "271115  2002 Winter  2002  Winter  Salt Lake City      Bobsleigh   \n",
       "\n",
       "                                           Event Medal age-height-weight  \n",
       "0                    Basketball Men's Basketball  None   24.0*180.0?80.0  \n",
       "1                   Judo Men's Extra-Lightweight  None   23.0(170.0?60.0  \n",
       "2                        Football Men's Football  None      24.0(nan?nan  \n",
       "3                    Tug-Of-War Men's Tug-Of-War  Gold      34.0:nan?nan  \n",
       "4               Speed Skating Women's 500 metres  None   21.0(185.0?82.0  \n",
       "...                                          ...   ...               ...  \n",
       "271111                Luge Mixed (Men)'s Doubles  None   29.0:179.0?89.0  \n",
       "271112  Ski Jumping Men's Large Hill, Individual  None   27.0:176.0?59.0  \n",
       "271113        Ski Jumping Men's Large Hill, Team  None   27.0*176.0?59.0  \n",
       "271114                      Bobsleigh Men's Four  None   30.0(185.0?96.0  \n",
       "271115                      Bobsleigh Men's Four  None   34.0(185.0?96.0  \n",
       "\n",
       "[271116 rows x 13 columns]"
      ]
     },
     "metadata": {},
     "output_type": "display_data"
    }
   ],
   "source": [
    "test = pd.read_parquet('olimpiadas.parquet')\n",
    "display(test)"
   ]
  },
  {
   "cell_type": "code",
   "execution_count": 37,
   "metadata": {
    "id": "20qn4zttUPjn"
   },
   "outputs": [],
   "source": [
    "#esta columna extra es para poder probar la funcion de matriz de correlacion.\n",
    "test['num_for_test'] = test['Year'].apply(lambda x: x*np.random.random()).round(2)"
   ]
  },
  {
   "cell_type": "markdown",
   "metadata": {
    "id": "7r5MOJkQy6xX"
   },
   "source": [
    "## testing class initializer\n"
   ]
  },
  {
   "cell_type": "markdown",
   "metadata": {
    "id": "yYSM2hJjUPjn"
   },
   "source": [
    "Inicializar la clase"
   ]
  },
  {
   "cell_type": "code",
   "execution_count": 38,
   "metadata": {
    "id": "Y4OFTxICUPjn",
    "outputId": "a9956f74-48f8-4c9a-dfe9-048323647b58"
   },
   "outputs": [
    {
     "name": "stdout",
     "output_type": "stream",
     "text": [
      "Directory 'EDA_06-11-2023' created (overwritten) successfully.\n"
     ]
    }
   ],
   "source": [
    "test_class = Profiler(test[:1000])"
   ]
  },
  {
   "cell_type": "markdown",
   "metadata": {},
   "source": [
    "None provided\n"
   ]
  },
  {
   "cell_type": "code",
   "execution_count": 39,
   "metadata": {},
   "outputs": [
    {
     "name": "stdout",
     "output_type": "stream",
     "text": [
      "Summary.txt has been successfully exported too EDA_06-11-2023\n",
      "\n",
      "------------------------------------------------------------\n",
      "Los tipos de las variables son: \n",
      "ID: int64\n",
      "Name: object\n",
      "Sex: object\n",
      "Team: object\n",
      "NOC: object\n",
      "Games: object\n",
      "Year: int64\n",
      "Season: object\n",
      "City: object\n",
      "Sport: object\n",
      "Event: object\n",
      "Medal: object\n",
      "age-height-weight: object\n",
      "num_for_test: float64\n",
      "------------------------------------------------------------\n",
      "Cantidad de NaNs por variable: \n",
      "ID: 0\n",
      "Name: 0\n",
      "Sex: 0\n",
      "Team: 0\n",
      "NOC: 0\n",
      "Games: 0\n",
      "Year: 0\n",
      "Season: 0\n",
      "City: 0\n",
      "Sport: 0\n",
      "Event: 0\n",
      "Medal: 888\n",
      "age-height-weight: 0\n",
      "num_for_test: 0\n",
      "------------------------------------------------------------\n",
      "Cantidad de valores únicos por variable: \n",
      "ID: 562\n",
      "Name: 560\n",
      "Sex: 2\n",
      "Team: 112\n",
      "NOC: 103\n",
      "Games: 46\n",
      "Year: 33\n",
      "Season: 2\n",
      "City: 41\n",
      "Sport: 45\n",
      "Event: 270\n",
      "Medal: 3\n",
      "age-height-weight: 776\n",
      "num_for_test: 999\n",
      "------------------------------------------------------------\n",
      "Cantidad de ceros en las variables numericas: \n",
      "ID: 0\n",
      "Year: 0\n",
      "num_for_test: 0\n",
      "------------------------------------------------------------\n",
      "Promedios de las variables numericas: \n",
      "ID: 278.145\n",
      "Year: 1983.044\n",
      "num_for_test: 1013.47587\n",
      "------------------------------------------------------------\n",
      "Cantidad de negativos de las variables numericas: \n",
      "ID: 0\n",
      "Year: 0\n",
      "num_for_test: 0\n",
      "------------------------------------------------------------\n",
      "Maximos de las variables numericas: \n",
      "ID: 562.0\n",
      "Year: 2016.0\n",
      "num_for_test: 2006.84\n",
      "------------------------------------------------------------\n",
      "Mínimos de las variables numericas: \n",
      "ID: 1.0\n",
      "Year: 1900.0\n",
      "num_for_test: 2.79\n",
      "------------------------------------------------------------\n",
      "Outliers de las variables numericas: \n",
      "ID: 0\n",
      "Year: 5\n",
      "num_for_test: 0\n",
      "------------------------------------------------------------\n",
      "Percentil 25.0 de las variables numericas: \n",
      "ID: 123.75\n",
      "Year: 1964.0\n",
      "num_for_test: 531.1825\n",
      "------------------------------------------------------------\n",
      "Percentil 50.0 de las variables numericas: \n",
      "ID: 277.0\n",
      "Year: 1992.0\n",
      "num_for_test: 1022.01\n",
      "------------------------------------------------------------\n",
      "Percentil 75.0 de las variables numericas: \n",
      "ID: 429.0\n",
      "Year: 2004.0\n",
      "num_for_test: 1517.62\n",
      "------------------------------------------------------------\n",
      "Percentil 100.0 de las variables numericas: \n",
      "ID: 562.0\n",
      "Year: 2016.0\n",
      "num_for_test: 2006.84\n",
      "------------------------------------------------------------\n",
      "\n"
     ]
    }
   ],
   "source": [
    "test_class.summarize()"
   ]
  },
  {
   "cell_type": "markdown",
   "metadata": {
    "id": "uLMHHBpHUPjz"
   },
   "source": [
    "### Testing make_clusters()"
   ]
  },
  {
   "cell_type": "code",
   "execution_count": 53,
   "metadata": {
    "id": "8oFLfeMgDTEr",
    "outputId": "f947be69-a226-4f17-99ad-ea728e47174a"
   },
   "outputs": [
    {
     "name": "stdout",
     "output_type": "stream",
     "text": [
      "Directory 'EDA_06-11-2023/clean_data' created (overwritten) successfully.\n",
      "porcentaje de data retenida:  0.112\n"
     ]
    },
    {
     "ename": "NameError",
     "evalue": "name 'not_na' is not defined",
     "output_type": "error",
     "traceback": [
      "\u001b[0;31m---------------------------------------------------------------------------\u001b[0m",
      "\u001b[0;31mNameError\u001b[0m                                 Traceback (most recent call last)",
      "\u001b[1;32m/home/magda/GITREPS/LabMDS-1/Proyecto_1/NUEVO_Proyecto_enunciado.ipynb Cell 30\u001b[0m line \u001b[0;36m<cell line: 1>\u001b[0;34m()\u001b[0m\n\u001b[0;32m----> <a href='vscode-notebook-cell:/home/magda/GITREPS/LabMDS-1/Proyecto_1/NUEVO_Proyecto_enunciado.ipynb#Z1262sZmlsZQ%3D%3D?line=0'>1</a>\u001b[0m test_class\u001b[39m.\u001b[39;49mclean_data()\n",
      "\u001b[1;32m/home/magda/GITREPS/LabMDS-1/Proyecto_1/NUEVO_Proyecto_enunciado.ipynb Cell 30\u001b[0m line \u001b[0;36mProfiler.clean_data\u001b[0;34m(self, non_atomic, column_name, everything, nan_treatment)\u001b[0m\n\u001b[1;32m    <a href='vscode-notebook-cell:/home/magda/GITREPS/LabMDS-1/Proyecto_1/NUEVO_Proyecto_enunciado.ipynb#Z1262sZmlsZQ%3D%3D?line=373'>374</a>\u001b[0m df_limpio\u001b[39m.\u001b[39mto_csv(\u001b[39mf\u001b[39m\u001b[39m\"\u001b[39m\u001b[39m{\u001b[39;00m\u001b[39mself\u001b[39m\u001b[39m.\u001b[39mEDA_directory_name\u001b[39m}\u001b[39;00m\u001b[39m/clean_data/data.csv\u001b[39m\u001b[39m\"\u001b[39m, index\u001b[39m=\u001b[39m\u001b[39mFalse\u001b[39;00m)\n\u001b[1;32m    <a href='vscode-notebook-cell:/home/magda/GITREPS/LabMDS-1/Proyecto_1/NUEVO_Proyecto_enunciado.ipynb#Z1262sZmlsZQ%3D%3D?line=374'>375</a>\u001b[0m \u001b[39mprint\u001b[39m(\u001b[39m\"\u001b[39m\u001b[39mporcentaje de data retenida: \u001b[39m\u001b[39m\"\u001b[39m,df_limpio\u001b[39m.\u001b[39mshape[\u001b[39m0\u001b[39m]\u001b[39m/\u001b[39mto_clean\u001b[39m.\u001b[39mshape[\u001b[39m0\u001b[39m])\n\u001b[0;32m--> <a href='vscode-notebook-cell:/home/magda/GITREPS/LabMDS-1/Proyecto_1/NUEVO_Proyecto_enunciado.ipynb#Z1262sZmlsZQ%3D%3D?line=375'>376</a>\u001b[0m not_na\u001b[39m.\u001b[39mto_csv(file_path)\n\u001b[1;32m    <a href='vscode-notebook-cell:/home/magda/GITREPS/LabMDS-1/Proyecto_1/NUEVO_Proyecto_enunciado.ipynb#Z1262sZmlsZQ%3D%3D?line=376'>377</a>\u001b[0m \u001b[39mself\u001b[39m\u001b[39m.\u001b[39mdf \u001b[39m=\u001b[39m df_limpio\n",
      "\u001b[0;31mNameError\u001b[0m: name 'not_na' is not defined"
     ]
    }
   ],
   "source": [
    "test_class.clean_data()\n",
    "#display(test_class.df)"
   ]
  },
  {
   "cell_type": "code",
   "execution_count": null,
   "metadata": {
    "id": "gc3yr6qvDTEs",
    "outputId": "f4ea1964-97e6-4d2a-8836-f453a421e712"
   },
   "outputs": [],
   "source": [
    "test_class.scale()"
   ]
  },
  {
   "cell_type": "code",
   "execution_count": null,
   "metadata": {
    "id": "E4fmonZCUPj0",
    "outputId": "16f2e73f-91d9-4cda-9d0f-f7c78cecdd31"
   },
   "outputs": [
    {
     "name": "stdout",
     "output_type": "stream",
     "text": [
      "Directory 'EDA_06-11-2023/clusters' created (overwritten) successfully.\n"
     ]
    },
    {
     "name": "stderr",
     "output_type": "stream",
     "text": [
      "testing clusters in elbow method: 100%|██████████| 8/8 [00:00<00:00, 57.76it/s]\n"
     ]
    },
    {
     "data": {
      "image/png": "[encoded data removed]",
      "text/plain": [
       "<Figure size 640x480 with 1 Axes>"
      ]
     },
     "metadata": {},
     "output_type": "display_data"
    },
    {
     "name": "stdout",
     "output_type": "stream",
     "text": [
      "El número óptimo de clusters es 4\n"
     ]
    },
    {
     "data": {
      "image/png": "[encoded data removed]",
      "text/plain": [
       "<Figure size 640x480 with 1 Axes>"
      ]
     },
     "metadata": {},
     "output_type": "display_data"
    }
   ],
   "source": [
    "test_class.make_clusters()"
   ]
  },
  {
   "cell_type": "code",
   "execution_count": null,
   "metadata": {},
   "outputs": [
    {
     "name": "stdout",
     "output_type": "stream",
     "text": [
      "Directory 'EDA_06-11-2023/clusters' created (overwritten) successfully.\n"
     ]
    },
    {
     "data": {
      "image/png": "[encoded data removed]",
      "text/plain": [
       "<Figure size 640x480 with 1 Axes>"
      ]
     },
     "metadata": {},
     "output_type": "display_data"
    }
   ],
   "source": [
    "test_class.make_clusters(n_clusters = 10)"
   ]
  },
  {
   "cell_type": "markdown",
   "metadata": {
    "id": "mV78M5RJUPj1"
   },
   "source": [
    "### Testing detect_anomalies()"
   ]
  },
  {
   "cell_type": "markdown",
   "metadata": {
    "id": "4z71stm5UPj1"
   },
   "source": [
    "#### Empty list of columns"
   ]
  },
  {
   "cell_type": "markdown",
   "metadata": {
    "id": "HecYTWfCUPj1"
   },
   "source": [
    "#### Single variable"
   ]
  },
  {
   "cell_type": "markdown",
   "metadata": {
    "id": "4EBXtKuqUPj1"
   },
   "source": [
    "#### Two numerical"
   ]
  },
  {
   "cell_type": "markdown",
   "metadata": {
    "id": "DMuQbLHzUPj2"
   },
   "source": [
    "#### Two categorical"
   ]
  },
  {
   "cell_type": "markdown",
   "metadata": {
    "id": "KjoGXrD2UPj2"
   },
   "source": [
    "#### Categorical and Numerical mix"
   ]
  },
  {
   "cell_type": "markdown",
   "metadata": {
    "id": "eylda2MyUPj2"
   },
   "source": [
    "### Testing profile()"
   ]
  },
  {
   "cell_type": "code",
   "execution_count": null,
   "metadata": {
    "id": "yJ9dYnaGuahp"
   },
   "outputs": [],
   "source": []
  },
  {
   "cell_type": "markdown",
   "metadata": {
    "id": "eAshTP-WUPj3"
   },
   "source": [
    "### Testing clearGarbage()"
   ]
  },
  {
   "cell_type": "code",
   "execution_count": null,
   "metadata": {
    "id": "CfPkd0Bguahp"
   },
   "outputs": [],
   "source": [
    "test_class.clearGarbage()"
   ]
  },
  {
   "cell_type": "markdown",
   "metadata": {
    "id": "vtxB4EWAy6xY"
   },
   "source": [
    "## 1.2 Caracterizar datos de Olimpiadas (2.0 puntos)\n",
    "\n",
    "A partir de la clase que hemos desarrollado previamente, procederemos a realizar un análisis exhaustivo de los datos proporcionados en el enunciado. Este análisis se presentará en forma de un informe contenido en el mismo Jupyter Notebook y abordará los siguientes puntos:\n",
    "\n",
    "1. Introducción\n",
    "    - Se proporcionará una breve descripción del problema que estamos abordando y se explicará la metodología que se seguirá.\n",
    "\n",
    "Elaborar una breve introducción con todo lo necesario para entender qué realizarán durante su proyecto. La idea es que describan de manera formal el proyecto con sus propias palabras y logren describir algunos aspectos básicos tanto del dataset como del análisis a realizar sobre los datos.\n",
    "\n",
    "Por lo anterior, en esta sección ustedes deberán ser capaces de:\n",
    "\n",
    "- Describir la tarea asociada al dataset.\n",
    "- Describir brevemente los datos de entrada que les provee el problema.\n",
    "- Plantear hipótesis de cómo podrían abordar el problema.\n",
    "\n",
    "2. Análisis del EDA (Análisis Exploratorio de Datos)\n",
    "    - Se discutirán las observaciones y conclusiones obtenidas acerca de los datos proporcionados. A lo largo de su respuesta, debe responder preguntas como:\n",
    "        - ¿Como se comportan las variables numéricas? ¿y las categóricas?\n",
    "        - ¿Existen valores nulos en el dataset? ¿En qué columnas? ¿Cuantos?\n",
    "        - ¿Cuáles son las categorías y frecuencias de las variables categóricas?\n",
    "        - ¿Existen datos duplicados en el conjunto?\n",
    "        - ¿Existen relaciones o patrones visuales entre las variables?\n",
    "        - ¿Existen anomalías notables o preocupantes en los datos?\n",
    "3. Creación de Clusters y Anomalías\n",
    "    - Se justificará la elección de los algoritmos a utilizar y sus hiperparámetros. En el caso de clustering, justifique además el número de clusters.\n",
    "    \n",
    "4. Análisis de Resultados\n",
    "    - Se examinarán los resultados obtenidos a partir de los clústers y anomalías generadas. ¿Se logra una separación efectiva de los datos? Entregue una interpretación de lo que representa cada clúster y anomalía.\n",
    "    \n",
    "5. Conclusión\n",
    "    - Se resumirán las principales conclusiones del análisis y se destacarán las implicaciones prácticas de los resultados obtenidos."
   ]
  },
  {
   "cell_type": "markdown",
   "metadata": {
    "id": "tLruh20Zy6xY"
   },
   "source": [
    "## 1. Introducción "
   ]
  },
  {
   "cell_type": "markdown",
   "metadata": {},
   "source": [
    "Una de las principales tareas en el mundo del Data Science es lograr proveer insights sobre la data que se está estudiando. Comunmente, la data puede ser de gran volumen, con muchos datapoints y múltiples atributos. Para procesar esta data es necesario construir funcionalidades que procesen la data y para esto el uso de programación orientada a objetos es la mejor opción. \n",
    "\n",
    "En esta ocasión se ha solicitado llevar a cabo un análisis sobre el dataset `'olimpiadas.parquet'`, de manera de obtener los mencionados insights. \n",
    "\n",
    "El dataset provisto cuenta con información acerca de los resultados de los juegos olímpicos a través del tiempo. Se mencionan los participantes, su nacionalidad, año de participación, temporada (juegos de invierno o verano), ciudad, disciplina, evento, si se ha ganado medalla y detalles acerca de la edad, el peso y la altura del participante.\n",
    "\n",
    "Si bien se podría construir un perfilador (profiler) que estudiara automáticamente el dataset en específico, se ha solicitado que el perfilador sea agnóstico al dataset de entrada, siendo  la caracterización automática, cosa que esta solución sea aplicable a cualquier dataset. \n",
    " \n",
    "Para esto, es posible construir una clase de Python que lleve a cabo este procesamiento, siendo agnóstica a la data que se le ingresa y provea insights automatizados sobre la data. Esta es la hipótesis que se busca confirmar durante este proyecto. \n",
    "\n",
    "En este proyecto se construyó la clase `Profiler()`, la cual recibe un dataframe y crea un perfil del dataset a través de sus métodos. \n",
    "\n",
    "La clase Profiler() contiene los sigueintes métodos:\n",
    "1. `summarize()`: caracteriza las variables del dataset entregado al objeto profiler. \n",
    "2. `plot_vars`: grafica las variables del dataset. Puede graficar todas las columnas del dataset o bien recibir una lista de nombres de las columnas del dataset. El método graficará correlación para las variables numéricas, cramer V para las variables categóricas, densidad para las variables numéricas y gráficos de frecuencia para las variables categóricas. El número de columnas admitidas en los gráficos de frecuencia es ajustable a través del parámetro `N_adj`. \n",
    "3. `clean_data()`: limpia los datos. Es parte de las opciones de preprocesamiento de la clase.\n",
    "4. `scale()`: escala la data, es parte de las opciones de preprocesamiento de la clase. \n",
    "5. `make_clusters()`: lanza una instancia de Kmeans() de sklearn. El número de clusters puede ser entregado al algoritmo a través del parámetro `n_clusters`. De lo contrario, se asignará un número óptimo de clusters a través del método del codo.\n",
    "6. `detect_anomalies()` detecta anomalías basado en XXXX\n",
    "7. `profile()`: ejecuta todos los métodos anteriores.\n",
    "8. `clearGarbage()` elimina todos los archivos generados por profiler.\n",
    "\n",
    "Además, cuenta con los sigueintes atributos:\n",
    "1. `self.df`: almacena el dataset a perfilar.\n",
    "2. `self.current_date`: almacena la fecha actual para construir el directorio donde se almacenarán los resultados del perfilador.\n",
    "3. `self.EDA_directory_name`: directorio donde se almacenan los resultados del método EDA.\n",
    "4. `self.PLOT__directory`: directorio donde se almacenan los gráficos generados. \n",
    "5. `self.CLEAN_directory_name`: directorio donde se almacenan los datos limpiados.\n",
    "6. `self.CLUSTERS_directory_name`: directorio donde se almacenan los resultados de la generación de clusters. \n",
    "7. `self.SCALE_directory_name`: directorio donde se almacenan los resultados del escalamiento. \n",
    "8. `self.categorical`: almacena un dataframe que contiene solo las variables categóricas del dataframe original.\n",
    "9. `self.numerical`: almacena un dataframe que contiene solo las variables numéricas del dataframe original."
   ]
  },
  {
   "cell_type": "markdown",
   "metadata": {},
   "source": [
    "## 2.Análisis EDA\n"
   ]
  },
  {
   "cell_type": "markdown",
   "metadata": {},
   "source": [
    "Cargar la data"
   ]
  },
  {
   "cell_type": "code",
   "execution_count": null,
   "metadata": {},
   "outputs": [],
   "source": [
    "test = pd.read_parquet('olimpiadas.parquet')[:10000]\n",
    "display(test.head())"
   ]
  },
  {
   "cell_type": "code",
   "execution_count": null,
   "metadata": {},
   "outputs": [],
   "source": [
    "#esta columna extra es para poder probar la funcion de matriz de correlacion.\n",
    "test['num_for_test'] = test['Year'].apply(lambda x: x*np.random.random()).round(2)"
   ]
  },
  {
   "cell_type": "markdown",
   "metadata": {},
   "source": [
    "Incializar el profiler:"
   ]
  },
  {
   "cell_type": "code",
   "execution_count": null,
   "metadata": {},
   "outputs": [],
   "source": [
    "test_class = Profiler(test)"
   ]
  },
  {
   "cell_type": "markdown",
   "metadata": {},
   "source": [
    "Es posible acceder al método `.describe()` del dataframe"
   ]
  },
  {
   "cell_type": "code",
   "execution_count": null,
   "metadata": {},
   "outputs": [],
   "source": [
    "test_class.df.describe().round(2)"
   ]
  },
  {
   "cell_type": "markdown",
   "metadata": {},
   "source": [
    "En todos los datasets es de interés estudiar las variables de este. Tanto las numéricas como las categóricas. Con la funcion `summarize()` se puede construir un resumen de las variables del dataframe."
   ]
  },
  {
   "cell_type": "code",
   "execution_count": null,
   "metadata": {},
   "outputs": [],
   "source": [
    "test_class.summarize()"
   ]
  },
  {
   "cell_type": "markdown",
   "metadata": {},
   "source": [
    "**¿Existen valores nulos en el dataset? ¿En qué columnas? ¿Cuantos?**\n",
    ">\n",
    "\n",
    "**¿Existen datos duplicados en el conjunto?**\n",
    ">"
   ]
  },
  {
   "cell_type": "markdown",
   "metadata": {},
   "source": [
    "Sin embargo, también se pueden construir visualizaciónes de las variables con el método `plot_vars()`."
   ]
  },
  {
   "cell_type": "code",
   "execution_count": null,
   "metadata": {},
   "outputs": [],
   "source": [
    "#test_class.plot_vars()"
   ]
  },
  {
   "cell_type": "markdown",
   "metadata": {},
   "source": [
    "**¿Como se comportan las variables numéricas? ¿y las categóricas?**\n",
    "> Para las variables numéricas, se observa una matriz de correlación. No se observan correlaciones numéricas relevantes para el análisis.\n",
    "\n",
    "\n",
    "**¿Cuáles son las categorías y frecuencias de las variables categóricas?**\n",
    "        \n",
    "**¿Existen relaciones o patrones visuales entre las variables?**\n",
    ">\n",
    "**¿Existen anomalías notables o preocupantes en los datos?**\n",
    ">"
   ]
  },
  {
   "cell_type": "markdown",
   "metadata": {},
   "source": [
    "## 3. Clusters y anomalías."
   ]
  },
  {
   "cell_type": "code",
   "execution_count": null,
   "metadata": {},
   "outputs": [],
   "source": [
    "test_class.clean_data()"
   ]
  },
  {
   "cell_type": "code",
   "execution_count": null,
   "metadata": {},
   "outputs": [],
   "source": [
    "test_class.scale()"
   ]
  },
  {
   "cell_type": "code",
   "execution_count": null,
   "metadata": {},
   "outputs": [],
   "source": [
    "kmeans = KMeans()\n",
    "test_class.make_clusters(kmeans)"
   ]
  },
  {
   "cell_type": "code",
   "execution_count": null,
   "metadata": {},
   "outputs": [],
   "source": [
    "dbscan = DBSCAN(eps=0.2, min_samples=10)\n",
    "test_class.make_clusters(dbscan)"
   ]
  },
  {
   "cell_type": "code",
   "execution_count": null,
   "metadata": {},
   "outputs": [],
   "source": [
    "agg= AgglomerativeClustering()\n",
    "test_class.make_clusters(agg)"
   ]
  },
  {
   "cell_type": "markdown",
   "metadata": {},
   "source": [
    "## 4.Resultados\n"
   ]
  },
  {
   "cell_type": "code",
   "execution_count": null,
   "metadata": {},
   "outputs": [],
   "source": []
  },
  {
   "cell_type": "markdown",
   "metadata": {},
   "source": []
  },
  {
   "cell_type": "markdown",
   "metadata": {},
   "source": [
    "## 5. Conclusión\n"
   ]
  },
  {
   "cell_type": "markdown",
   "metadata": {},
   "source": [
    "En este proyecto se ha visto la efectividad de construir una clase perfiladora agnóstica al dataset, puesto que ahora será posible ejecutar múltiples EDAs sobre cualquier dataset de manera rápida y eficaz."
   ]
  }
 ],
 "metadata": {
  "colab": {
   "provenance": []
  },
  "kernelspec": {
   "display_name": "Python 3 (ipykernel)",
   "language": "python",
   "name": "python3"
  },
  "language_info": {
   "codemirror_mode": {
    "name": "ipython",
    "version": 3
   },
   "file_extension": ".py",
   "mimetype": "text/x-python",
   "name": "python",
   "nbconvert_exporter": "python",
   "pygments_lexer": "ipython3",
   "version": "3.10.12"
  }
 },
 "nbformat": 4,
 "nbformat_minor": 0
}
